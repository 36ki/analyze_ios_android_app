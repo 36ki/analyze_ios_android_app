{
 "cells": [
  {
   "cell_type": "markdown",
   "metadata": {},
   "source": [
    "# Data Profile for Android and iOS moblie apps\n",
    "This projects represent profitable mobile app profiles that are profitable for the App Store and Google Play markets to analyze and understand what kinds of apps are likely to attract more users."
   ]
  },
  {
   "cell_type": "markdown",
   "metadata": {},
   "source": [
    "### Store dataset of Android and iOs"
   ]
  },
  {
   "cell_type": "code",
   "execution_count": 1,
   "metadata": {},
   "outputs": [],
   "source": [
    "#function for opening and exploring dataset\n",
    "\n",
    "def explore_data(dataset, start, end, rows_and_column=False):\n",
    "    dataset_slice = dataset[start:end] #select each data from whole dataset\n",
    "    for row in dataset_slice:\n",
    "        print(row) #show selected data\n",
    "        print('\\n') # add a new empty line after each row\n",
    "    if rows_and_column: #if input True, it will show number of row and column\n",
    "        print('Number of rows:',len(dataset[1:]))\n",
    "        print('Number of columns:',len(dataset[0]))"
   ]
  },
  {
   "cell_type": "code",
   "execution_count": 2,
   "metadata": {},
   "outputs": [],
   "source": [
    "#open, read and store data\n",
    "\n",
    "opened_file1 = open('AppleStore.csv') #open iOs data\n",
    "from csv import reader\n",
    "dataset_ios = list(reader(opened_file1)) # store iOs data\n",
    "opened_file1.close() #close iOs data\n",
    "opened_file2 = open('googleplaystore.csv') #open Android data\n",
    "dataset_android = list(reader(opened_file2)) #store Android data\n",
    "opened_file2.close() #close Android data"
   ]
  },
  {
   "cell_type": "code",
   "execution_count": 3,
   "metadata": {},
   "outputs": [
    {
     "name": "stdout",
     "output_type": "stream",
     "text": [
      "['id', 'track_name', 'size_bytes', 'currency', 'price', 'rating_count_tot', 'rating_count_ver', 'user_rating', 'user_rating_ver', 'ver', 'cont_rating', 'prime_genre', 'sup_devices.num', 'ipadSc_urls.num', 'lang.num', 'vpp_lic']\n",
      "\n",
      "\n",
      "['284882215', 'Facebook', '389879808', 'USD', '0.0', '2974676', '212', '3.5', '3.5', '95.0', '4+', 'Social Networking', '37', '1', '29', '1']\n",
      "\n",
      "\n",
      "Number of rows: 7197\n",
      "Number of columns: 16\n",
      "['App', 'Category', 'Rating', 'Reviews', 'Size', 'Installs', 'Type', 'Price', 'Content Rating', 'Genres', 'Last Updated', 'Current Ver', 'Android Ver']\n",
      "\n",
      "\n",
      "['Photo Editor & Candy Camera & Grid & ScrapBook', 'ART_AND_DESIGN', '4.1', '159', '19M', '10,000+', 'Free', '0', 'Everyone', 'Art & Design', 'January 7, 2018', '1.0.0', '4.0.3 and up']\n",
      "\n",
      "\n",
      "Number of rows: 10841\n",
      "Number of columns: 13\n"
     ]
    }
   ],
   "source": [
    "#print the columns and the first row and find the number of rows and columns\n",
    "\n",
    "#iOs\n",
    "explore_data(dataset_ios,0,2,rows_and_column=True)\n",
    "\n",
    "#Android\n",
    "explore_data(dataset_android,0,2,rows_and_column=True)\n"
   ]
  },
  {
   "cell_type": "markdown",
   "metadata": {},
   "source": [
    "### Data Cleaning\n",
    "#### PART 1: Deleting Wrong data\n",
    "Maximum ratings is 5.0 so we need to exclude the data which contains out of range ratings."
   ]
  },
  {
   "cell_type": "code",
   "execution_count": 4,
   "metadata": {},
   "outputs": [
    {
     "name": "stdout",
     "output_type": "stream",
     "text": [
      "Number of wrong data of iOs:  0\n",
      "Number of wrong data of Android:  1\n"
     ]
    }
   ],
   "source": [
    "#iOs\n",
    "count_wrong_ios = 0\n",
    "for data in dataset_ios[1:]:\n",
    "    rating1 = float(data[7])\n",
    "    rating2 = float(data[8])\n",
    "    if rating1>5 or rating2>5: #maximum range is 5\n",
    "        dataset_ios.remove(data) #delete data which is out of range\n",
    "        count_wrong_ios += 1 #count wrong data\n",
    "\n",
    "#Android\n",
    "count_wrong_android = 0\n",
    "for data in dataset_android[1:]:\n",
    "    rating = float(data[2])\n",
    "    if rating>5: #maximum range is 5\n",
    "        dataset_android.remove(data) #delete data which is out of range\n",
    "        count_wrong_android += 1 #count wrong data\n",
    "\n",
    "print('Number of wrong data of iOs: ',count_wrong_ios)\n",
    "print('Number of wrong data of Android: ',count_wrong_android)"
   ]
  },
  {
   "cell_type": "markdown",
   "metadata": {},
   "source": [
    "#### PART 2: Deleting duplicate data"
   ]
  },
  {
   "cell_type": "code",
   "execution_count": 5,
   "metadata": {
    "scrolled": false
   },
   "outputs": [
    {
     "name": "stdout",
     "output_type": "stream",
     "text": [
      "Total duplicate app of iOs:  0\n",
      "Total duplicate app of Android:  1181\n",
      "Updated the number of iOs:  7197\n",
      "Updated the number of Android:  9659\n"
     ]
    }
   ],
   "source": [
    "#Android has duplicated app so decide to store only maximum review\n",
    "\n",
    "#function for updating review point\n",
    "def reviews_max(reviews_app, dataset, index_app, index_review):\n",
    "    for data in dataset[1:]:\n",
    "        app = data[index_app]\n",
    "        reviews = int(data[index_review])\n",
    "        if app in reviews_app and reviews> reviews_app[app] : #compare value in list\n",
    "            reviews_app[app] = reviews\n",
    "        elif app not in reviews_app: #add new value in list\n",
    "            reviews_app[app] = reviews\n",
    "\n",
    "#function for removing duplicated app having review point which is less than maximum\n",
    "def unique_app(reviews_app, dataset, index_app, index_review, duplicate_app, unique_app):\n",
    "    for data in dataset[1:]:\n",
    "        app = data[index_app]\n",
    "        reviews = int(data[index_review])\n",
    "        if app in reviews_app and reviews < reviews_app[app]: #review point is less than maximum\n",
    "            if app in duplicate_app:\n",
    "                duplicate_app[app] += 1 #count more duplicated app\n",
    "            else:\n",
    "                duplicate_app[app] = 1 #add the first value of duplicated app\n",
    "            dataset.remove(data) #delete duplicated app\n",
    "        elif app in reviews_app and reviews == reviews_app[app]: #review point is equal to maximum\n",
    "            if app not in unique_app:\n",
    "                unique_app.append(app)\n",
    "            else: #if it's duplicated app then count and delete\n",
    "                if app in duplicate_app:\n",
    "                    duplicate_app[app] += 1\n",
    "                else:\n",
    "                    duplicate_app[app] = 1\n",
    "                dataset.remove(data)\n",
    "\n",
    "#iOs\n",
    "reviews_ios = {}\n",
    "reviews_max(reviews_ios, dataset_ios, 0, 5) #ios app is identified from id, not app name\n",
    "unique_ios = []\n",
    "duplicate_ios = {}\n",
    "unique_app(reviews_ios, dataset_ios, 1, 5, duplicate_ios, unique_ios)\n",
    "count_duplicate_ios = 0\n",
    "for key in duplicate_ios:\n",
    "    count_duplicate_ios += int(duplicate_ios[key])\n",
    "print('Total duplicate app of iOs: ',count_duplicate_ios)\n",
    "\n",
    "#Android\n",
    "reviews_android = {}\n",
    "reviews_max(reviews_android, dataset_android, 0, 3)\n",
    "unique_android = []\n",
    "duplicate_android = {}\n",
    "unique_app(reviews_android, dataset_android, 0, 3, duplicate_android, unique_android)\n",
    "count_duplicate_android = 0\n",
    "for key in duplicate_android:\n",
    "    count_duplicate_android += int(duplicate_android[key])\n",
    "print('Total duplicate app of Android: ',count_duplicate_android)\n",
    "\n",
    "print('Updated the number of iOs: ',len(dataset_ios[1:]) )\n",
    "print('Updated the number of Android: ',len(dataset_android[1:]) )"
   ]
  },
  {
   "cell_type": "markdown",
   "metadata": {},
   "source": [
    "#### PART 2:\n",
    "only focus on free downloaded and installed app and for an English-speaking audience only.\n",
    "So we will need to do the following:\n",
    "- remove non-English apps\n",
    "- remove apps that aren't free"
   ]
  },
  {
   "cell_type": "markdown",
   "metadata": {},
   "source": [
    "##### Remove non-English apps\n",
    "its name has more than 3 non-ASCII characters"
   ]
  },
  {
   "cell_type": "markdown",
   "metadata": {},
   "source": [
    "note:\n",
    "<br>**orc(char)function**\n",
    ": return an integer representing the unicode character as details below\n",
    "- 0-31 = control code\n",
    "- 32-47 = punctuation and symbol\n",
    "- 48-57 = number\n",
    "- 58-64 = punctuation and symbol\n",
    "- 65-90 = alphabet uppercase\n",
    "- 91-96 = punctuation and symbol\n",
    "- 97-122 = alphabet lowercase\n",
    "- 123-126 = punctuation and symbol"
   ]
  },
  {
   "cell_type": "code",
   "execution_count": 6,
   "metadata": {},
   "outputs": [],
   "source": [
    "#function for checking if the app is for english-user or not\n",
    "def is_english(string):\n",
    "    non_ascii = 0\n",
    "    for character in string:\n",
    "        if ord(character) > 127:\n",
    "            non_ascii += 1 #count the number of non-ascii this app name having\n",
    "    if non_ascii > 3:\n",
    "        return False #more than 3 returns false\n",
    "    else:\n",
    "        return True"
   ]
  },
  {
   "cell_type": "code",
   "execution_count": 7,
   "metadata": {},
   "outputs": [
    {
     "name": "stdout",
     "output_type": "stream",
     "text": [
      "Total non-English app of iOs:  1014\n",
      "Total non-English app of Android:  45\n",
      "Updated the number of iOs:  6183\n",
      "Updated the number of Android:  9614\n"
     ]
    }
   ],
   "source": [
    "#iOs\n",
    "non_eng_ios = []\n",
    "for data in dataset_ios[1:]:\n",
    "    app = data[1]\n",
    "    if not(is_english(app)): #check if this app is for english-user \n",
    "        non_eng_ios.append(app)\n",
    "        dataset_ios.remove(data) #if not then remove\n",
    "print('Total non-English app of iOs: ',len(non_eng_ios))\n",
    "\n",
    "#Android\n",
    "non_eng_android = []        \n",
    "for data in dataset_android[1:]:\n",
    "    app = data[0]\n",
    "    if not(is_english(app)):\n",
    "        non_eng_android.append(app)\n",
    "        dataset_android.remove(data)\n",
    "print('Total non-English app of Android: ',len(non_eng_android))\n",
    "\n",
    "print('Updated the number of iOs: ',len(dataset_ios[1:]) )\n",
    "print('Updated the number of Android: ',len(dataset_android[1:]) )"
   ]
  },
  {
   "cell_type": "markdown",
   "metadata": {},
   "source": [
    "#### Remove apps that aren't free"
   ]
  },
  {
   "cell_type": "code",
   "execution_count": 8,
   "metadata": {},
   "outputs": [
    {
     "name": "stdout",
     "output_type": "stream",
     "text": [
      "Total non-free app of iOs:  2961\n",
      "Total non-free app of Android:  750\n",
      "Updated the number of iOs:  3222\n",
      "Updated the number of Android:  8864\n"
     ]
    }
   ],
   "source": [
    "#iOs\n",
    "non_free_ios = []\n",
    "for data in dataset_ios[1:]:\n",
    "    app = data[1]\n",
    "    price = float(data[4])\n",
    "    if price != 0.0: #price is not zero\n",
    "        non_free_ios.append(app)\n",
    "        dataset_ios.remove(data)\n",
    "print('Total non-free app of iOs: ',len(non_free_ios))\n",
    "\n",
    "#Android\n",
    "non_free_android = []\n",
    "for data in dataset_android[1:]:\n",
    "    app = data[0]\n",
    "    price = data[7]\n",
    "    if price != '0': #if use data index 7 == 'Free', there is one app that price is equal to 0 but type is not free it's AnA\n",
    "        non_free_android.append(app)\n",
    "        dataset_android.remove(data)\n",
    "print('Total non-free app of Android: ',len(non_free_android))\n",
    "\n",
    "print('Updated the number of iOs: ',len(dataset_ios[1:]) )\n",
    "print('Updated the number of Android: ',len(dataset_android[1:]) )"
   ]
  },
  {
   "cell_type": "markdown",
   "metadata": {},
   "source": [
    "## Explore the app data"
   ]
  },
  {
   "cell_type": "markdown",
   "metadata": {},
   "source": [
    "### 1. The most three app genre\n",
    "\n",
    "\n",
    "note:\n",
    "<br>**sorted() fuction**\n",
    "sorted(iterable, key=key, reverse=reverse)\n",
    "- iterable\t: Required. The sequence to sort, list, dictionary, tuple etc.\n",
    "- key\t: Optional. A Function to execute to decide the order. Default is None\n",
    "<br>ex. key = lambda x: x[1] <- 1 = index in tuple, if not put default is 0\n",
    "- reverse\t: Optional. A Boolean. False will sort ascending, True will sort descending. Default is False"
   ]
  },
  {
   "cell_type": "code",
   "execution_count": 9,
   "metadata": {},
   "outputs": [],
   "source": [
    "#function for finding percentage of each genre\n",
    "def freq_table(dataset, index):\n",
    "    table = {} #dict for collecting genre and its number\n",
    "    total = 0\n",
    "    for row in dataset[1:]:\n",
    "        total += 1 #counting total app\n",
    "        value = row[index] #collect type of genre\n",
    "        if value in table:\n",
    "            table[value] += 1 #count more app in genre\n",
    "        else:\n",
    "            table[value] = 1 #add new type of genre in dict\n",
    "    table_percentages = {} #dict for collecting genre and its percentage\n",
    "    for key in table:\n",
    "        percentage = (table[key]/total)*100\n",
    "        table_percentages[key] = percentage\n",
    "    return table_percentages\n",
    "\n",
    "#function for sorting data\n",
    "def display_table(dataset, index):\n",
    "    table = freq_table(dataset,index)\n",
    "    table_display = []\n",
    "    for key in table:\n",
    "        key_val_as_tuple = (key,table[key]) #collect data in tupe which is easier for sorting\n",
    "        table_display.append(key_val_as_tuple)\n",
    "    table_sorted = sorted(table_display,key = lambda x: x[1], reverse=True)\n",
    "    for entry in table_sorted[0:3]:\n",
    "        print(entry[0],' : ',entry[1])"
   ]
  },
  {
   "cell_type": "code",
   "execution_count": 10,
   "metadata": {},
   "outputs": [
    {
     "name": "stdout",
     "output_type": "stream",
     "text": [
      "The most three app genre in iOs\n",
      "Games  :  58.16263190564867\n",
      "Entertainment  :  7.883302296710118\n",
      "Photo & Video  :  4.9658597144630665\n"
     ]
    }
   ],
   "source": [
    "#iOS\n",
    "print(\"The most three app genre in iOs\")\n",
    "display_table(dataset_ios,-5)"
   ]
  },
  {
   "cell_type": "code",
   "execution_count": 11,
   "metadata": {
    "scrolled": true
   },
   "outputs": [
    {
     "name": "stdout",
     "output_type": "stream",
     "text": [
      "The most three app genre in Android\n",
      "Tools  :  8.449909747292418\n",
      "Entertainment  :  6.069494584837545\n",
      "Education  :  5.347472924187725\n"
     ]
    }
   ],
   "source": [
    "#Android\n",
    "print(\"The most three app genre in Android\")\n",
    "display_table(dataset_android,-4)"
   ]
  },
  {
   "cell_type": "markdown",
   "metadata": {},
   "source": [
    "### 2. Top three popular app genre"
   ]
  },
  {
   "cell_type": "code",
   "execution_count": 12,
   "metadata": {},
   "outputs": [],
   "source": [
    "#function for calculating average of ratings of each genre\n",
    "def popular_table(dataset, ios):\n",
    "    genre_num = {}\n",
    "    genre_rating = {}\n",
    "    if ios:\n",
    "        index_genre = -5\n",
    "        index_rating = 5\n",
    "    else:\n",
    "        index_genre = -4\n",
    "        index_rating = 5\n",
    "    for data in dataset[1:]:\n",
    "        genre = data[index_genre]\n",
    "        if ios:\n",
    "            rating = float(data[index_rating])\n",
    "        else: #rating in Android shows as string having , and + which can't be calculated\n",
    "            rating = data[index_rating].replace(',','') #remove ,\n",
    "            rating = rating.replace('+','') #remove +\n",
    "            rating = float(rating) #change to float type\n",
    "        if genre in genre_num: #count number of genre\n",
    "            genre_num[genre] += 1\n",
    "        else:\n",
    "            genre_num[genre] = 1\n",
    "        if genre in genre_rating: #sum rating of each genre\n",
    "            genre_rating[genre] += rating\n",
    "        else:\n",
    "            genre_rating[genre] = rating\n",
    "    genre_avg = {}\n",
    "    for key1 in genre_rating: #calculate average rating of each genre\n",
    "        genre0 = key1\n",
    "        rating0 = genre_rating[key1]\n",
    "        for key2 in genre_num:\n",
    "            genre1 = key2\n",
    "            tot = genre_num[key2]\n",
    "            if key2 == key1:\n",
    "                average = rating0/tot\n",
    "                genre_avg[key2] = average\n",
    "    return genre_avg\n",
    "\n",
    "#function for sorting data\n",
    "def popular_table_sort(dataset,ios):\n",
    "    avg_table = popular_table(dataset,ios)\n",
    "    avg_table_sort = []\n",
    "    for key in avg_table:\n",
    "        value = (key,avg_table[key])\n",
    "        avg_table_sort.append(value)\n",
    "    avg_table_sort = sorted(avg_table_sort, key=lambda x: x[1], reverse = True)\n",
    "    for item in avg_table_sort[:3]:\n",
    "        print(item[0],' : ',item[1])"
   ]
  },
  {
   "cell_type": "code",
   "execution_count": 13,
   "metadata": {},
   "outputs": [
    {
     "name": "stdout",
     "output_type": "stream",
     "text": [
      "the top three popular app genre in iOs:\n",
      "Navigation  :  86090.33333333333\n",
      "Reference  :  74942.11111111111\n",
      "Social Networking  :  71548.34905660378\n"
     ]
    }
   ],
   "source": [
    "#iOs\n",
    "print('the top three popular app genre in iOs:')\n",
    "popular_table_sort(dataset_ios,ios=True)"
   ]
  },
  {
   "cell_type": "code",
   "execution_count": 14,
   "metadata": {},
   "outputs": [],
   "source": [
    "#function for showing top three app in each genre\n",
    "def each_app_rank(dataset,string,ios):\n",
    "    rank_app = []\n",
    "    if ios:\n",
    "        index_data = 1\n",
    "        index_genre = -5\n",
    "        index_rating = 5\n",
    "    else:\n",
    "        index_data = 0\n",
    "        index_genre = -4\n",
    "        index_rating = 5\n",
    "    for data in dataset[1:]:\n",
    "        app = data[index_data]\n",
    "        genre = data[index_genre]\n",
    "        if ios:\n",
    "            rating = float(data[index_rating])\n",
    "        else:\n",
    "            rating = data[index_rating].replace(',','')\n",
    "            rating = rating.replace('+','')\n",
    "            rating = float(rating)\n",
    "        if genre == string:\n",
    "            rank_app.append((app,rating))\n",
    "    rank_app = sorted(rank_app,key=lambda x: x[1],reverse=True)\n",
    "    for rank in rank_app[:3]:\n",
    "        print(rank[0],' : ',rank[1])\n"
   ]
  },
  {
   "cell_type": "code",
   "execution_count": 15,
   "metadata": {},
   "outputs": [
    {
     "name": "stdout",
     "output_type": "stream",
     "text": [
      "the top three popular app of \"Navigation\" in iOs:\n",
      "Waze - GPS Navigation, Maps & Real-time Traffic  :  345046.0\n",
      "Google Maps - Navigation & Transit  :  154911.0\n",
      "Geocaching®  :  12811.0\n"
     ]
    }
   ],
   "source": [
    "print('the top three popular app of \"Navigation\" in iOs:')\n",
    "each_app_rank(dataset_ios,'Navigation',ios=True)"
   ]
  },
  {
   "cell_type": "code",
   "execution_count": 16,
   "metadata": {},
   "outputs": [
    {
     "name": "stdout",
     "output_type": "stream",
     "text": [
      "the top three popular app of \"Reference\" in iOs:\n",
      "Bible  :  985920.0\n",
      "Dictionary.com Dictionary & Thesaurus  :  200047.0\n",
      "Dictionary.com Dictionary & Thesaurus for iPad  :  54175.0\n"
     ]
    }
   ],
   "source": [
    "print('the top three popular app of \"Reference\" in iOs:')\n",
    "each_app_rank(dataset_ios,'Reference',ios=True)"
   ]
  },
  {
   "cell_type": "code",
   "execution_count": 17,
   "metadata": {},
   "outputs": [
    {
     "name": "stdout",
     "output_type": "stream",
     "text": [
      "the top three popular app of \"Social Networking\" in iOs:\n",
      "Facebook  :  2974676.0\n",
      "Pinterest  :  1061624.0\n",
      "Skype for iPhone  :  373519.0\n"
     ]
    }
   ],
   "source": [
    "print('the top three popular app of \"Social Networking\" in iOs:')\n",
    "each_app_rank(dataset_ios,'Social Networking',ios=True)"
   ]
  },
  {
   "cell_type": "code",
   "execution_count": 18,
   "metadata": {
    "scrolled": false
   },
   "outputs": [
    {
     "name": "stdout",
     "output_type": "stream",
     "text": [
      "the top three popular app genre in Android:\n",
      "Communication  :  38456119.167247385\n",
      "Adventure;Action & Adventure  :  35333333.333333336\n",
      "Video Players & Editors  :  24947335.796178345\n"
     ]
    }
   ],
   "source": [
    "#Android\n",
    "print('the top three popular app genre in Android:')\n",
    "popular_table_sort(dataset_android,ios=False)"
   ]
  },
  {
   "cell_type": "code",
   "execution_count": 19,
   "metadata": {},
   "outputs": [
    {
     "name": "stdout",
     "output_type": "stream",
     "text": [
      "the popular app of \"Communication\" in Android which is sold out more than 1 million :\n",
      "WhatsApp Messenger : 1,000,000,000+\n",
      "Messenger – Text and Video Chat for Free : 1,000,000,000+\n",
      "Google Chrome: Fast & Secure : 1,000,000,000+\n",
      "Gmail : 1,000,000,000+\n",
      "Hangouts : 1,000,000,000+\n",
      "Skype - free IM & video calls : 1,000,000,000+\n"
     ]
    }
   ],
   "source": [
    "print('the popular app of \"Communication\" in Android which is sold out more than 1 million :')\n",
    "for app in dataset_android[1:]:\n",
    "    if app[-4] == 'Communication' and (app[5] == '1,000,000,000+'):\n",
    "        print(app[0], ':', app[5])"
   ]
  },
  {
   "cell_type": "code",
   "execution_count": 20,
   "metadata": {},
   "outputs": [
    {
     "name": "stdout",
     "output_type": "stream",
     "text": [
      "the popular app of \"Action & Adventure\" in Android which is sold out more than 1 hundred thousands :\n",
      "ROBLOX : 100,000,000+\n"
     ]
    }
   ],
   "source": [
    "print('the popular app of \"Action & Adventure\" in Android which is sold out more than 1 hundred thousands :')\n",
    "for app in dataset_android[1:]:\n",
    "    if app[-4] == 'Adventure;Action & Adventure' and (app[5] == '100,000,000+'):\n",
    "        print(app[0], ':', app[5])"
   ]
  },
  {
   "cell_type": "code",
   "execution_count": 21,
   "metadata": {},
   "outputs": [
    {
     "name": "stdout",
     "output_type": "stream",
     "text": [
      "the popular app of \"Video Players & Editors\" in Android which is sold out more than 1 million :\n",
      "YouTube : 1,000,000,000+\n",
      "Google Play Movies & TV : 1,000,000,000+\n"
     ]
    }
   ],
   "source": [
    "print('the popular app of \"Video Players & Editors\" in Android which is sold out more than 1 million :')\n",
    "for app in dataset_android[1:]:\n",
    "    if app[-4] == 'Video Players & Editors' and (app[5] == '1,000,000,000+'):\n",
    "        print(app[0], ':', app[5])"
   ]
  },
  {
   "cell_type": "markdown",
   "metadata": {},
   "source": [
    "# Conclusion\n",
    "\n",
    " **Table 1 : represent ranking of the three most number of genre**\n",
    "\n",
    "|Rank| iOs | Android |\n",
    "|:---|:----:|---:|\n",
    "|1 | Games|Tools|\n",
    "|2|Entertainment|Entertainment|\n",
    "|3|Photo & Video|Education|\n",
    "\n",
    " **Table 2 : represent ranking of the three most popular genre**\n",
    "\n",
    "|Rank| iOs | Android |\n",
    "|:---|:----:|---:|\n",
    "|1 | Navigation|Communication|\n",
    "|2|Reference|Action & Adventure|\n",
    "|3|Social Network|Video players & editor|"
   ]
  }
 ],
 "metadata": {
  "kernelspec": {
   "display_name": "Python 3",
   "language": "python",
   "name": "python3"
  },
  "language_info": {
   "codemirror_mode": {
    "name": "ipython",
    "version": 3
   },
   "file_extension": ".py",
   "mimetype": "text/x-python",
   "name": "python",
   "nbconvert_exporter": "python",
   "pygments_lexer": "ipython3",
   "version": "3.8.2"
  }
 },
 "nbformat": 4,
 "nbformat_minor": 4
}
